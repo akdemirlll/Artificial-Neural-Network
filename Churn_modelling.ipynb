{
 "cells": [
  {
   "cell_type": "code",
   "execution_count": 1,
   "metadata": {},
   "outputs": [],
   "source": [
    "import numpy as np\n",
    "import pandas as pd\n",
    "import matplotlib.pyplot as plt\n"
   ]
  },
  {
   "cell_type": "markdown",
   "metadata": {},
   "source": [
    "## importing data"
   ]
  },
  {
   "cell_type": "code",
   "execution_count": 6,
   "metadata": {},
   "outputs": [],
   "source": [
    "df = pd.read_csv(\"Churn_modelling.csv\")\n",
    "X = df.iloc[:, 3:13].values\n",
    "y = df.iloc[:, 13].values"
   ]
  },
  {
   "cell_type": "code",
   "execution_count": 7,
   "metadata": {},
   "outputs": [
    {
     "data": {
      "text/html": [
       "<div>\n",
       "<style scoped>\n",
       "    .dataframe tbody tr th:only-of-type {\n",
       "        vertical-align: middle;\n",
       "    }\n",
       "\n",
       "    .dataframe tbody tr th {\n",
       "        vertical-align: top;\n",
       "    }\n",
       "\n",
       "    .dataframe thead th {\n",
       "        text-align: right;\n",
       "    }\n",
       "</style>\n",
       "<table border=\"1\" class=\"dataframe\">\n",
       "  <thead>\n",
       "    <tr style=\"text-align: right;\">\n",
       "      <th></th>\n",
       "      <th>RowNumber</th>\n",
       "      <th>CustomerId</th>\n",
       "      <th>Surname</th>\n",
       "      <th>CreditScore</th>\n",
       "      <th>Geography</th>\n",
       "      <th>Gender</th>\n",
       "      <th>Age</th>\n",
       "      <th>Tenure</th>\n",
       "      <th>Balance</th>\n",
       "      <th>NumOfProducts</th>\n",
       "      <th>HasCrCard</th>\n",
       "      <th>IsActiveMember</th>\n",
       "      <th>EstimatedSalary</th>\n",
       "      <th>Exited</th>\n",
       "    </tr>\n",
       "  </thead>\n",
       "  <tbody>\n",
       "    <tr>\n",
       "      <th>0</th>\n",
       "      <td>1</td>\n",
       "      <td>15634602</td>\n",
       "      <td>Hargrave</td>\n",
       "      <td>619</td>\n",
       "      <td>France</td>\n",
       "      <td>Female</td>\n",
       "      <td>42</td>\n",
       "      <td>2</td>\n",
       "      <td>0.00</td>\n",
       "      <td>1</td>\n",
       "      <td>1</td>\n",
       "      <td>1</td>\n",
       "      <td>101348.88</td>\n",
       "      <td>1</td>\n",
       "    </tr>\n",
       "    <tr>\n",
       "      <th>1</th>\n",
       "      <td>2</td>\n",
       "      <td>15647311</td>\n",
       "      <td>Hill</td>\n",
       "      <td>608</td>\n",
       "      <td>Spain</td>\n",
       "      <td>Female</td>\n",
       "      <td>41</td>\n",
       "      <td>1</td>\n",
       "      <td>83807.86</td>\n",
       "      <td>1</td>\n",
       "      <td>0</td>\n",
       "      <td>1</td>\n",
       "      <td>112542.58</td>\n",
       "      <td>0</td>\n",
       "    </tr>\n",
       "    <tr>\n",
       "      <th>2</th>\n",
       "      <td>3</td>\n",
       "      <td>15619304</td>\n",
       "      <td>Onio</td>\n",
       "      <td>502</td>\n",
       "      <td>France</td>\n",
       "      <td>Female</td>\n",
       "      <td>42</td>\n",
       "      <td>8</td>\n",
       "      <td>159660.80</td>\n",
       "      <td>3</td>\n",
       "      <td>1</td>\n",
       "      <td>0</td>\n",
       "      <td>113931.57</td>\n",
       "      <td>1</td>\n",
       "    </tr>\n",
       "    <tr>\n",
       "      <th>3</th>\n",
       "      <td>4</td>\n",
       "      <td>15701354</td>\n",
       "      <td>Boni</td>\n",
       "      <td>699</td>\n",
       "      <td>France</td>\n",
       "      <td>Female</td>\n",
       "      <td>39</td>\n",
       "      <td>1</td>\n",
       "      <td>0.00</td>\n",
       "      <td>2</td>\n",
       "      <td>0</td>\n",
       "      <td>0</td>\n",
       "      <td>93826.63</td>\n",
       "      <td>0</td>\n",
       "    </tr>\n",
       "    <tr>\n",
       "      <th>4</th>\n",
       "      <td>5</td>\n",
       "      <td>15737888</td>\n",
       "      <td>Mitchell</td>\n",
       "      <td>850</td>\n",
       "      <td>Spain</td>\n",
       "      <td>Female</td>\n",
       "      <td>43</td>\n",
       "      <td>2</td>\n",
       "      <td>125510.82</td>\n",
       "      <td>1</td>\n",
       "      <td>1</td>\n",
       "      <td>1</td>\n",
       "      <td>79084.10</td>\n",
       "      <td>0</td>\n",
       "    </tr>\n",
       "    <tr>\n",
       "      <th>...</th>\n",
       "      <td>...</td>\n",
       "      <td>...</td>\n",
       "      <td>...</td>\n",
       "      <td>...</td>\n",
       "      <td>...</td>\n",
       "      <td>...</td>\n",
       "      <td>...</td>\n",
       "      <td>...</td>\n",
       "      <td>...</td>\n",
       "      <td>...</td>\n",
       "      <td>...</td>\n",
       "      <td>...</td>\n",
       "      <td>...</td>\n",
       "      <td>...</td>\n",
       "    </tr>\n",
       "    <tr>\n",
       "      <th>9995</th>\n",
       "      <td>9996</td>\n",
       "      <td>15606229</td>\n",
       "      <td>Obijiaku</td>\n",
       "      <td>771</td>\n",
       "      <td>France</td>\n",
       "      <td>Male</td>\n",
       "      <td>39</td>\n",
       "      <td>5</td>\n",
       "      <td>0.00</td>\n",
       "      <td>2</td>\n",
       "      <td>1</td>\n",
       "      <td>0</td>\n",
       "      <td>96270.64</td>\n",
       "      <td>0</td>\n",
       "    </tr>\n",
       "    <tr>\n",
       "      <th>9996</th>\n",
       "      <td>9997</td>\n",
       "      <td>15569892</td>\n",
       "      <td>Johnstone</td>\n",
       "      <td>516</td>\n",
       "      <td>France</td>\n",
       "      <td>Male</td>\n",
       "      <td>35</td>\n",
       "      <td>10</td>\n",
       "      <td>57369.61</td>\n",
       "      <td>1</td>\n",
       "      <td>1</td>\n",
       "      <td>1</td>\n",
       "      <td>101699.77</td>\n",
       "      <td>0</td>\n",
       "    </tr>\n",
       "    <tr>\n",
       "      <th>9997</th>\n",
       "      <td>9998</td>\n",
       "      <td>15584532</td>\n",
       "      <td>Liu</td>\n",
       "      <td>709</td>\n",
       "      <td>France</td>\n",
       "      <td>Female</td>\n",
       "      <td>36</td>\n",
       "      <td>7</td>\n",
       "      <td>0.00</td>\n",
       "      <td>1</td>\n",
       "      <td>0</td>\n",
       "      <td>1</td>\n",
       "      <td>42085.58</td>\n",
       "      <td>1</td>\n",
       "    </tr>\n",
       "    <tr>\n",
       "      <th>9998</th>\n",
       "      <td>9999</td>\n",
       "      <td>15682355</td>\n",
       "      <td>Sabbatini</td>\n",
       "      <td>772</td>\n",
       "      <td>Germany</td>\n",
       "      <td>Male</td>\n",
       "      <td>42</td>\n",
       "      <td>3</td>\n",
       "      <td>75075.31</td>\n",
       "      <td>2</td>\n",
       "      <td>1</td>\n",
       "      <td>0</td>\n",
       "      <td>92888.52</td>\n",
       "      <td>1</td>\n",
       "    </tr>\n",
       "    <tr>\n",
       "      <th>9999</th>\n",
       "      <td>10000</td>\n",
       "      <td>15628319</td>\n",
       "      <td>Walker</td>\n",
       "      <td>792</td>\n",
       "      <td>France</td>\n",
       "      <td>Female</td>\n",
       "      <td>28</td>\n",
       "      <td>4</td>\n",
       "      <td>130142.79</td>\n",
       "      <td>1</td>\n",
       "      <td>1</td>\n",
       "      <td>0</td>\n",
       "      <td>38190.78</td>\n",
       "      <td>0</td>\n",
       "    </tr>\n",
       "  </tbody>\n",
       "</table>\n",
       "<p>10000 rows × 14 columns</p>\n",
       "</div>"
      ],
      "text/plain": [
       "      RowNumber  CustomerId    Surname  CreditScore Geography  Gender  Age  \\\n",
       "0             1    15634602   Hargrave          619    France  Female   42   \n",
       "1             2    15647311       Hill          608     Spain  Female   41   \n",
       "2             3    15619304       Onio          502    France  Female   42   \n",
       "3             4    15701354       Boni          699    France  Female   39   \n",
       "4             5    15737888   Mitchell          850     Spain  Female   43   \n",
       "...         ...         ...        ...          ...       ...     ...  ...   \n",
       "9995       9996    15606229   Obijiaku          771    France    Male   39   \n",
       "9996       9997    15569892  Johnstone          516    France    Male   35   \n",
       "9997       9998    15584532        Liu          709    France  Female   36   \n",
       "9998       9999    15682355  Sabbatini          772   Germany    Male   42   \n",
       "9999      10000    15628319     Walker          792    France  Female   28   \n",
       "\n",
       "      Tenure    Balance  NumOfProducts  HasCrCard  IsActiveMember  \\\n",
       "0          2       0.00              1          1               1   \n",
       "1          1   83807.86              1          0               1   \n",
       "2          8  159660.80              3          1               0   \n",
       "3          1       0.00              2          0               0   \n",
       "4          2  125510.82              1          1               1   \n",
       "...      ...        ...            ...        ...             ...   \n",
       "9995       5       0.00              2          1               0   \n",
       "9996      10   57369.61              1          1               1   \n",
       "9997       7       0.00              1          0               1   \n",
       "9998       3   75075.31              2          1               0   \n",
       "9999       4  130142.79              1          1               0   \n",
       "\n",
       "      EstimatedSalary  Exited  \n",
       "0           101348.88       1  \n",
       "1           112542.58       0  \n",
       "2           113931.57       1  \n",
       "3            93826.63       0  \n",
       "4            79084.10       0  \n",
       "...               ...     ...  \n",
       "9995         96270.64       0  \n",
       "9996        101699.77       0  \n",
       "9997         42085.58       1  \n",
       "9998         92888.52       1  \n",
       "9999         38190.78       0  \n",
       "\n",
       "[10000 rows x 14 columns]"
      ]
     },
     "execution_count": 7,
     "metadata": {},
     "output_type": "execute_result"
    }
   ],
   "source": [
    "df"
   ]
  },
  {
   "cell_type": "markdown",
   "metadata": {},
   "source": [
    "## encoding categorical data"
   ]
  },
  {
   "cell_type": "code",
   "execution_count": 8,
   "metadata": {},
   "outputs": [],
   "source": [
    "df = df.drop(['RowNumber', 'CustomerId', 'Surname'], 1)\n",
    "\n",
    "from sklearn.preprocessing import OneHotEncoder, StandardScaler\n",
    "ohe = OneHotEncoder(drop='first', sparse=False)\n",
    "categorical_columns = ['Geography', 'Gender']\n",
    "numerical_columns = [i for i in df.columns if i not in categorical_columns + ['Exited']]\n",
    "scaler = StandardScaler()\n",
    "X = np.concatenate([ohe.fit_transform(df[categorical_columns]),\n",
    "                scaler.fit_transform(df[numerical_columns])],\n",
    "               axis=1)\n",
    "y = df['Exited']"
   ]
  },
  {
   "cell_type": "markdown",
   "metadata": {},
   "source": [
    "## Splitting the dataset into training set and test set"
   ]
  },
  {
   "cell_type": "code",
   "execution_count": 9,
   "metadata": {},
   "outputs": [],
   "source": [
    "from sklearn.model_selection import train_test_split\n",
    "X_train, X_test, y_train, y_test = train_test_split(X,y, test_size=0.2)"
   ]
  },
  {
   "cell_type": "code",
   "execution_count": 10,
   "metadata": {},
   "outputs": [],
   "source": [
    "from sklearn.preprocessing import StandardScaler"
   ]
  },
  {
   "cell_type": "code",
   "execution_count": 11,
   "metadata": {},
   "outputs": [],
   "source": [
    "sc = StandardScaler()\n",
    "X_train = sc.fit_transform(X_train)\n",
    "X_test = sc.fit_transform(X_test)"
   ]
  },
  {
   "cell_type": "code",
   "execution_count": 12,
   "metadata": {},
   "outputs": [
    {
     "name": "stderr",
     "output_type": "stream",
     "text": [
      "Using TensorFlow backend.\n",
      "c:\\users\\kullanıcı\\appdata\\local\\programs\\python\\python37\\lib\\site-packages\\tensorflow\\python\\framework\\dtypes.py:526: FutureWarning: Passing (type, 1) or '1type' as a synonym of type is deprecated; in a future version of numpy, it will be understood as (type, (1,)) / '(1,)type'.\n",
      "  _np_qint8 = np.dtype([(\"qint8\", np.int8, 1)])\n",
      "c:\\users\\kullanıcı\\appdata\\local\\programs\\python\\python37\\lib\\site-packages\\tensorflow\\python\\framework\\dtypes.py:527: FutureWarning: Passing (type, 1) or '1type' as a synonym of type is deprecated; in a future version of numpy, it will be understood as (type, (1,)) / '(1,)type'.\n",
      "  _np_quint8 = np.dtype([(\"quint8\", np.uint8, 1)])\n",
      "c:\\users\\kullanıcı\\appdata\\local\\programs\\python\\python37\\lib\\site-packages\\tensorflow\\python\\framework\\dtypes.py:528: FutureWarning: Passing (type, 1) or '1type' as a synonym of type is deprecated; in a future version of numpy, it will be understood as (type, (1,)) / '(1,)type'.\n",
      "  _np_qint16 = np.dtype([(\"qint16\", np.int16, 1)])\n",
      "c:\\users\\kullanıcı\\appdata\\local\\programs\\python\\python37\\lib\\site-packages\\tensorflow\\python\\framework\\dtypes.py:529: FutureWarning: Passing (type, 1) or '1type' as a synonym of type is deprecated; in a future version of numpy, it will be understood as (type, (1,)) / '(1,)type'.\n",
      "  _np_quint16 = np.dtype([(\"quint16\", np.uint16, 1)])\n",
      "c:\\users\\kullanıcı\\appdata\\local\\programs\\python\\python37\\lib\\site-packages\\tensorflow\\python\\framework\\dtypes.py:530: FutureWarning: Passing (type, 1) or '1type' as a synonym of type is deprecated; in a future version of numpy, it will be understood as (type, (1,)) / '(1,)type'.\n",
      "  _np_qint32 = np.dtype([(\"qint32\", np.int32, 1)])\n",
      "c:\\users\\kullanıcı\\appdata\\local\\programs\\python\\python37\\lib\\site-packages\\tensorflow\\python\\framework\\dtypes.py:535: FutureWarning: Passing (type, 1) or '1type' as a synonym of type is deprecated; in a future version of numpy, it will be understood as (type, (1,)) / '(1,)type'.\n",
      "  np_resource = np.dtype([(\"resource\", np.ubyte, 1)])\n"
     ]
    }
   ],
   "source": [
    "import keras\n",
    "from keras.models import Sequential\n",
    "from keras.layers import Dense"
   ]
  },
  {
   "cell_type": "code",
   "execution_count": 13,
   "metadata": {},
   "outputs": [],
   "source": [
    "classifier = Sequential()"
   ]
  },
  {
   "cell_type": "markdown",
   "metadata": {},
   "source": [
    "## adding input layer and first hidden layer"
   ]
  },
  {
   "cell_type": "code",
   "execution_count": 14,
   "metadata": {},
   "outputs": [
    {
     "name": "stderr",
     "output_type": "stream",
     "text": [
      "c:\\users\\kullanıcı\\appdata\\local\\programs\\python\\python37\\lib\\site-packages\\ipykernel_launcher.py:1: UserWarning: Update your `Dense` call to the Keras 2 API: `Dense(activation=\"relu\", input_dim=11, units=6, kernel_initializer=\"uniform\")`\n",
      "  \"\"\"Entry point for launching an IPython kernel.\n"
     ]
    },
    {
     "name": "stdout",
     "output_type": "stream",
     "text": [
      "WARNING:tensorflow:From c:\\users\\kullanıcı\\appdata\\local\\programs\\python\\python37\\lib\\site-packages\\tensorflow\\python\\ops\\resource_variable_ops.py:435: colocate_with (from tensorflow.python.framework.ops) is deprecated and will be removed in a future version.\n",
      "Instructions for updating:\n",
      "Colocations handled automatically by placer.\n"
     ]
    }
   ],
   "source": [
    "classifier.add(Dense(output_dim=6, init=\"uniform\", activation=\"relu\", input_dim=11))"
   ]
  },
  {
   "cell_type": "markdown",
   "metadata": {},
   "source": [
    "## adding second layer"
   ]
  },
  {
   "cell_type": "code",
   "execution_count": 15,
   "metadata": {},
   "outputs": [
    {
     "name": "stderr",
     "output_type": "stream",
     "text": [
      "c:\\users\\kullanıcı\\appdata\\local\\programs\\python\\python37\\lib\\site-packages\\ipykernel_launcher.py:1: UserWarning: Update your `Dense` call to the Keras 2 API: `Dense(activation=\"relu\", units=6, kernel_initializer=\"uniform\")`\n",
      "  \"\"\"Entry point for launching an IPython kernel.\n"
     ]
    }
   ],
   "source": [
    "classifier.add(Dense(output_dim=6, init=\"uniform\", activation=\"relu\"))"
   ]
  },
  {
   "cell_type": "markdown",
   "metadata": {},
   "source": [
    "## adding output layer"
   ]
  },
  {
   "cell_type": "code",
   "execution_count": 16,
   "metadata": {},
   "outputs": [
    {
     "name": "stderr",
     "output_type": "stream",
     "text": [
      "c:\\users\\kullanıcı\\appdata\\local\\programs\\python\\python37\\lib\\site-packages\\ipykernel_launcher.py:1: UserWarning: Update your `Dense` call to the Keras 2 API: `Dense(activation=\"sigmoid\", units=1, kernel_initializer=\"uniform\")`\n",
      "  \"\"\"Entry point for launching an IPython kernel.\n"
     ]
    }
   ],
   "source": [
    "classifier.add(Dense(output_dim=1, init=\"uniform\", activation=\"sigmoid\"))"
   ]
  },
  {
   "cell_type": "code",
   "execution_count": 17,
   "metadata": {},
   "outputs": [],
   "source": [
    "classifier.compile(optimizer =\"adam\", loss = \"binary_crossentropy\", metrics = [\"accuracy\"] )"
   ]
  },
  {
   "cell_type": "code",
   "execution_count": 18,
   "metadata": {},
   "outputs": [
    {
     "name": "stdout",
     "output_type": "stream",
     "text": [
      "WARNING:tensorflow:From c:\\users\\kullanıcı\\appdata\\local\\programs\\python\\python37\\lib\\site-packages\\tensorflow\\python\\ops\\math_ops.py:3066: to_int32 (from tensorflow.python.ops.math_ops) is deprecated and will be removed in a future version.\n",
      "Instructions for updating:\n",
      "Use tf.cast instead.\n",
      "Epoch 1/100\n",
      "8000/8000 [==============================] - 3s 361us/step - loss: 0.4878 - accuracy: 0.7929\n",
      "Epoch 2/100\n",
      "8000/8000 [==============================] - 1s 124us/step - loss: 0.4247 - accuracy: 0.7976\n",
      "Epoch 3/100\n",
      "8000/8000 [==============================] - 1s 124us/step - loss: 0.4160 - accuracy: 0.8301\n",
      "Epoch 4/100\n",
      "8000/8000 [==============================] - 1s 148us/step - loss: 0.4095 - accuracy: 0.8328\n",
      "Epoch 5/100\n",
      "8000/8000 [==============================] - 1s 125us/step - loss: 0.4057 - accuracy: 0.8347\n",
      "Epoch 6/100\n",
      "8000/8000 [==============================] - 1s 125us/step - loss: 0.4032 - accuracy: 0.8378\n",
      "Epoch 7/100\n",
      "8000/8000 [==============================] - 1s 128us/step - loss: 0.4015 - accuracy: 0.8366\n",
      "Epoch 8/100\n",
      "8000/8000 [==============================] - 1s 127us/step - loss: 0.3998 - accuracy: 0.8364\n",
      "Epoch 9/100\n",
      "8000/8000 [==============================] - 1s 126us/step - loss: 0.3985 - accuracy: 0.8354\n",
      "Epoch 10/100\n",
      "8000/8000 [==============================] - 1s 126us/step - loss: 0.3977 - accuracy: 0.8372\n",
      "Epoch 11/100\n",
      "8000/8000 [==============================] - 1s 126us/step - loss: 0.3971 - accuracy: 0.8367\n",
      "Epoch 12/100\n",
      "8000/8000 [==============================] - 1s 126us/step - loss: 0.3966 - accuracy: 0.8357\n",
      "Epoch 13/100\n",
      "8000/8000 [==============================] - 1s 126us/step - loss: 0.3957 - accuracy: 0.8367\n",
      "Epoch 14/100\n",
      "8000/8000 [==============================] - 1s 126us/step - loss: 0.3957 - accuracy: 0.8366\n",
      "Epoch 15/100\n",
      "8000/8000 [==============================] - 1s 131us/step - loss: 0.3948 - accuracy: 0.8374\n",
      "Epoch 16/100\n",
      "8000/8000 [==============================] - 1s 152us/step - loss: 0.3951 - accuracy: 0.8381\n",
      "Epoch 17/100\n",
      "8000/8000 [==============================] - 1s 136us/step - loss: 0.3943 - accuracy: 0.8384\n",
      "Epoch 18/100\n",
      "8000/8000 [==============================] - 1s 136us/step - loss: 0.3943 - accuracy: 0.8407\n",
      "Epoch 19/100\n",
      "8000/8000 [==============================] - 1s 160us/step - loss: 0.3942 - accuracy: 0.8372\n",
      "Epoch 20/100\n",
      "8000/8000 [==============================] - 1s 140us/step - loss: 0.3938 - accuracy: 0.8389\n",
      "Epoch 21/100\n",
      "8000/8000 [==============================] - 1s 135us/step - loss: 0.3939 - accuracy: 0.8381\n",
      "Epoch 22/100\n",
      "8000/8000 [==============================] - 1s 132us/step - loss: 0.3936 - accuracy: 0.8396\n",
      "Epoch 23/100\n",
      "8000/8000 [==============================] - 1s 133us/step - loss: 0.3933 - accuracy: 0.8400\n",
      "Epoch 24/100\n",
      "8000/8000 [==============================] - 1s 137us/step - loss: 0.3936 - accuracy: 0.8389\n",
      "Epoch 25/100\n",
      "8000/8000 [==============================] - 1s 167us/step - loss: 0.3928 - accuracy: 0.8404\n",
      "Epoch 26/100\n",
      "8000/8000 [==============================] - 1s 139us/step - loss: 0.3930 - accuracy: 0.8389\n",
      "Epoch 27/100\n",
      "8000/8000 [==============================] - 1s 130us/step - loss: 0.3928 - accuracy: 0.8381\n",
      "Epoch 28/100\n",
      "8000/8000 [==============================] - 1s 147us/step - loss: 0.3929 - accuracy: 0.8391\n",
      "Epoch 29/100\n",
      "8000/8000 [==============================] - 1s 135us/step - loss: 0.3924 - accuracy: 0.8409\n",
      "Epoch 30/100\n",
      "8000/8000 [==============================] - 1s 151us/step - loss: 0.3925 - accuracy: 0.8405\n",
      "Epoch 31/100\n",
      "8000/8000 [==============================] - 1s 148us/step - loss: 0.3927 - accuracy: 0.8394\n",
      "Epoch 32/100\n",
      "8000/8000 [==============================] - 1s 134us/step - loss: 0.3925 - accuracy: 0.8395\n",
      "Epoch 33/100\n",
      "8000/8000 [==============================] - 2s 201us/step - loss: 0.3925 - accuracy: 0.8394\n",
      "Epoch 34/100\n",
      "8000/8000 [==============================] - 1s 124us/step - loss: 0.3918 - accuracy: 0.8391\n",
      "Epoch 35/100\n",
      "8000/8000 [==============================] - 1s 126us/step - loss: 0.3923 - accuracy: 0.8397\n",
      "Epoch 36/100\n",
      "8000/8000 [==============================] - 1s 127us/step - loss: 0.3924 - accuracy: 0.8420\n",
      "Epoch 37/100\n",
      "8000/8000 [==============================] - 1s 139us/step - loss: 0.3922 - accuracy: 0.8403\n",
      "Epoch 38/100\n",
      "8000/8000 [==============================] - 1s 131us/step - loss: 0.3918 - accuracy: 0.8409\n",
      "Epoch 39/100\n",
      "8000/8000 [==============================] - 1s 146us/step - loss: 0.3918 - accuracy: 0.8394\n",
      "Epoch 40/100\n",
      "8000/8000 [==============================] - 1s 142us/step - loss: 0.3920 - accuracy: 0.8397\n",
      "Epoch 41/100\n",
      "8000/8000 [==============================] - ETA: 0s - loss: 0.3933 - accuracy: 0.83 - 1s 138us/step - loss: 0.3920 - accuracy: 0.8403\n",
      "Epoch 42/100\n",
      "8000/8000 [==============================] - 1s 154us/step - loss: 0.3917 - accuracy: 0.8395\n",
      "Epoch 43/100\n",
      "8000/8000 [==============================] - 1s 141us/step - loss: 0.3916 - accuracy: 0.8401\n",
      "Epoch 44/100\n",
      "8000/8000 [==============================] - 1s 166us/step - loss: 0.3915 - accuracy: 0.8410\n",
      "Epoch 45/100\n",
      "8000/8000 [==============================] - 1s 150us/step - loss: 0.3914 - accuracy: 0.8400\n",
      "Epoch 46/100\n",
      "8000/8000 [==============================] - 1s 174us/step - loss: 0.3917 - accuracy: 0.8411\n",
      "Epoch 47/100\n",
      "8000/8000 [==============================] - 1s 165us/step - loss: 0.3915 - accuracy: 0.8410\n",
      "Epoch 48/100\n",
      "8000/8000 [==============================] - 1s 163us/step - loss: 0.3910 - accuracy: 0.8413\n",
      "Epoch 49/100\n",
      "8000/8000 [==============================] - 1s 160us/step - loss: 0.3911 - accuracy: 0.8404\n",
      "Epoch 50/100\n",
      "8000/8000 [==============================] - 1s 164us/step - loss: 0.3914 - accuracy: 0.8407\n",
      "Epoch 51/100\n",
      "8000/8000 [==============================] - 1s 125us/step - loss: 0.3909 - accuracy: 0.8411\n",
      "Epoch 52/100\n",
      "8000/8000 [==============================] - 1s 119us/step - loss: 0.3910 - accuracy: 0.8421\n",
      "Epoch 53/100\n",
      "8000/8000 [==============================] - 1s 122us/step - loss: 0.3910 - accuracy: 0.8413\n",
      "Epoch 54/100\n",
      "8000/8000 [==============================] - 1s 130us/step - loss: 0.3911 - accuracy: 0.8421\n",
      "Epoch 55/100\n",
      "8000/8000 [==============================] - 1s 125us/step - loss: 0.3906 - accuracy: 0.8416\n",
      "Epoch 56/100\n",
      "8000/8000 [==============================] - 1s 120us/step - loss: 0.3911 - accuracy: 0.8397\n",
      "Epoch 57/100\n",
      "8000/8000 [==============================] - 1s 118us/step - loss: 0.3913 - accuracy: 0.8411\n",
      "Epoch 58/100\n",
      "8000/8000 [==============================] - 1s 123us/step - loss: 0.3908 - accuracy: 0.8424\n",
      "Epoch 59/100\n",
      "8000/8000 [==============================] - 1s 118us/step - loss: 0.3906 - accuracy: 0.8425\n",
      "Epoch 60/100\n",
      "8000/8000 [==============================] - 1s 122us/step - loss: 0.3911 - accuracy: 0.8415\n",
      "Epoch 61/100\n",
      "8000/8000 [==============================] - 1s 118us/step - loss: 0.3906 - accuracy: 0.8435\n",
      "Epoch 62/100\n",
      "8000/8000 [==============================] - 1s 137us/step - loss: 0.3908 - accuracy: 0.8425\n",
      "Epoch 63/100\n",
      "8000/8000 [==============================] - 1s 129us/step - loss: 0.3909 - accuracy: 0.8406\n",
      "Epoch 64/100\n",
      "8000/8000 [==============================] - 1s 123us/step - loss: 0.3903 - accuracy: 0.8420\n",
      "Epoch 65/100\n",
      "8000/8000 [==============================] - 1s 134us/step - loss: 0.3905 - accuracy: 0.8428\n",
      "Epoch 66/100\n",
      "8000/8000 [==============================] - 1s 152us/step - loss: 0.3908 - accuracy: 0.8409\n",
      "Epoch 67/100\n",
      "8000/8000 [==============================] - 1s 115us/step - loss: 0.3907 - accuracy: 0.8400\n",
      "Epoch 68/100\n",
      "8000/8000 [==============================] - 2s 194us/step - loss: 0.3909 - accuracy: 0.8421\n",
      "Epoch 69/100\n",
      "8000/8000 [==============================] - 1s 157us/step - loss: 0.3904 - accuracy: 0.8421\n",
      "Epoch 70/100\n",
      "8000/8000 [==============================] - 1s 186us/step - loss: 0.3902 - accuracy: 0.8419\n",
      "Epoch 71/100\n",
      "8000/8000 [==============================] - 1s 184us/step - loss: 0.3903 - accuracy: 0.8426\n",
      "Epoch 72/100\n",
      "8000/8000 [==============================] - 1s 135us/step - loss: 0.3908 - accuracy: 0.8410\n",
      "Epoch 73/100\n",
      "8000/8000 [==============================] - 2s 206us/step - loss: 0.3898 - accuracy: 0.8413\n",
      "Epoch 74/100\n",
      "8000/8000 [==============================] - 1s 133us/step - loss: 0.3903 - accuracy: 0.8409\n",
      "Epoch 75/100\n"
     ]
    },
    {
     "name": "stdout",
     "output_type": "stream",
     "text": [
      "8000/8000 [==============================] - 1s 138us/step - loss: 0.3904 - accuracy: 0.8428\n",
      "Epoch 76/100\n",
      "8000/8000 [==============================] - 1s 141us/step - loss: 0.3904 - accuracy: 0.8421\n",
      "Epoch 77/100\n",
      "8000/8000 [==============================] - 1s 148us/step - loss: 0.3903 - accuracy: 0.8414\n",
      "Epoch 78/100\n",
      "8000/8000 [==============================] - 1s 151us/step - loss: 0.3903 - accuracy: 0.8421\n",
      "Epoch 79/100\n",
      "8000/8000 [==============================] - 1s 130us/step - loss: 0.3901 - accuracy: 0.8419\n",
      "Epoch 80/100\n",
      "8000/8000 [==============================] - 1s 145us/step - loss: 0.3903 - accuracy: 0.8407\n",
      "Epoch 81/100\n",
      "8000/8000 [==============================] - 1s 150us/step - loss: 0.3906 - accuracy: 0.8415\n",
      "Epoch 82/100\n",
      "8000/8000 [==============================] - 1s 163us/step - loss: 0.3904 - accuracy: 0.8413\n",
      "Epoch 83/100\n",
      "8000/8000 [==============================] - 1s 147us/step - loss: 0.3901 - accuracy: 0.8410\n",
      "Epoch 84/100\n",
      "8000/8000 [==============================] - 1s 151us/step - loss: 0.3904 - accuracy: 0.8416\n",
      "Epoch 85/100\n",
      "8000/8000 [==============================] - 1s 170us/step - loss: 0.3904 - accuracy: 0.8415\n",
      "Epoch 86/100\n",
      "8000/8000 [==============================] - 1s 149us/step - loss: 0.3899 - accuracy: 0.8419\n",
      "Epoch 87/100\n",
      "8000/8000 [==============================] - 1s 155us/step - loss: 0.3902 - accuracy: 0.8413\n",
      "Epoch 88/100\n",
      "8000/8000 [==============================] - 1s 140us/step - loss: 0.3901 - accuracy: 0.84140s - loss: 0.3902 - \n",
      "Epoch 89/100\n",
      "8000/8000 [==============================] - 1s 135us/step - loss: 0.3899 - accuracy: 0.8413\n",
      "Epoch 90/100\n",
      "8000/8000 [==============================] - 1s 144us/step - loss: 0.3901 - accuracy: 0.8413\n",
      "Epoch 91/100\n",
      "8000/8000 [==============================] - 1s 131us/step - loss: 0.3903 - accuracy: 0.8428\n",
      "Epoch 92/100\n",
      "8000/8000 [==============================] - 1s 127us/step - loss: 0.3899 - accuracy: 0.8418\n",
      "Epoch 93/100\n",
      "8000/8000 [==============================] - 1s 130us/step - loss: 0.3901 - accuracy: 0.8418\n",
      "Epoch 94/100\n",
      "8000/8000 [==============================] - 1s 183us/step - loss: 0.3900 - accuracy: 0.8411\n",
      "Epoch 95/100\n",
      "8000/8000 [==============================] - 1s 125us/step - loss: 0.3898 - accuracy: 0.8419\n",
      "Epoch 96/100\n",
      "8000/8000 [==============================] - 1s 132us/step - loss: 0.3902 - accuracy: 0.8401\n",
      "Epoch 97/100\n",
      "8000/8000 [==============================] - 1s 138us/step - loss: 0.3903 - accuracy: 0.8425\n",
      "Epoch 98/100\n",
      "8000/8000 [==============================] - 1s 139us/step - loss: 0.3902 - accuracy: 0.8420\n",
      "Epoch 99/100\n",
      "8000/8000 [==============================] - 2s 230us/step - loss: 0.3902 - accuracy: 0.8422\n",
      "Epoch 100/100\n",
      "8000/8000 [==============================] - 2s 219us/step - loss: 0.3899 - accuracy: 0.8432\n"
     ]
    },
    {
     "data": {
      "text/plain": [
       "<keras.callbacks.callbacks.History at 0x160aa8c8>"
      ]
     },
     "execution_count": 18,
     "metadata": {},
     "output_type": "execute_result"
    }
   ],
   "source": [
    "classifier.fit(X_train, y_train, batch_size=10, epochs=100)"
   ]
  },
  {
   "cell_type": "code",
   "execution_count": 23,
   "metadata": {},
   "outputs": [],
   "source": [
    "y_pred = classifier.predict(X_test)\n",
    "y_pred = (y_pred>0.5)"
   ]
  },
  {
   "cell_type": "code",
   "execution_count": 19,
   "metadata": {},
   "outputs": [],
   "source": [
    "from sklearn.metrics import confusion_matrix, precision_score, recall_score, f1_score"
   ]
  },
  {
   "cell_type": "code",
   "execution_count": 24,
   "metadata": {},
   "outputs": [
    {
     "data": {
      "text/html": [
       "<div>\n",
       "<style scoped>\n",
       "    .dataframe tbody tr th:only-of-type {\n",
       "        vertical-align: middle;\n",
       "    }\n",
       "\n",
       "    .dataframe tbody tr th {\n",
       "        vertical-align: top;\n",
       "    }\n",
       "\n",
       "    .dataframe thead th {\n",
       "        text-align: right;\n",
       "    }\n",
       "</style>\n",
       "<table border=\"1\" class=\"dataframe\">\n",
       "  <thead>\n",
       "    <tr style=\"text-align: right;\">\n",
       "      <th></th>\n",
       "      <th>0</th>\n",
       "      <th>1</th>\n",
       "    </tr>\n",
       "  </thead>\n",
       "  <tbody>\n",
       "    <tr>\n",
       "      <th>0</th>\n",
       "      <td>1560</td>\n",
       "      <td>59</td>\n",
       "    </tr>\n",
       "    <tr>\n",
       "      <th>1</th>\n",
       "      <td>266</td>\n",
       "      <td>115</td>\n",
       "    </tr>\n",
       "  </tbody>\n",
       "</table>\n",
       "</div>"
      ],
      "text/plain": [
       "      0    1\n",
       "0  1560   59\n",
       "1   266  115"
      ]
     },
     "execution_count": 24,
     "metadata": {},
     "output_type": "execute_result"
    }
   ],
   "source": [
    "cm=confusion_matrix(y_test,y_pred)\n",
    "pd.DataFrame(cm)"
   ]
  },
  {
   "cell_type": "code",
   "execution_count": 25,
   "metadata": {},
   "outputs": [
    {
     "data": {
      "text/plain": [
       "0.6609195402298851"
      ]
     },
     "execution_count": 25,
     "metadata": {},
     "output_type": "execute_result"
    }
   ],
   "source": [
    "precision_score(y_test, y_pred)"
   ]
  },
  {
   "cell_type": "code",
   "execution_count": 26,
   "metadata": {},
   "outputs": [
    {
     "data": {
      "text/plain": [
       "0.30183727034120733"
      ]
     },
     "execution_count": 26,
     "metadata": {},
     "output_type": "execute_result"
    }
   ],
   "source": [
    "recall_score(y_test, y_pred)"
   ]
  },
  {
   "cell_type": "code",
   "execution_count": 27,
   "metadata": {},
   "outputs": [
    {
     "data": {
      "text/plain": [
       "0.4144144144144144"
      ]
     },
     "execution_count": 27,
     "metadata": {},
     "output_type": "execute_result"
    }
   ],
   "source": [
    "f1_score(y_test, y_pred)"
   ]
  },
  {
   "cell_type": "code",
   "execution_count": null,
   "metadata": {},
   "outputs": [],
   "source": []
  }
 ],
 "metadata": {
  "kernelspec": {
   "display_name": "Python 3",
   "language": "python",
   "name": "python3"
  },
  "language_info": {
   "codemirror_mode": {
    "name": "ipython",
    "version": 3
   },
   "file_extension": ".py",
   "mimetype": "text/x-python",
   "name": "python",
   "nbconvert_exporter": "python",
   "pygments_lexer": "ipython3",
   "version": "3.7.4"
  }
 },
 "nbformat": 4,
 "nbformat_minor": 4
}
